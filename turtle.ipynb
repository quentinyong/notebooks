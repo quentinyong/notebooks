{
 "cells": [
  {
   "metadata": {},
   "cell_type": "markdown",
   "source": "# Turtle",
   "id": "6d7d060989aec180"
  },
  {
   "metadata": {
    "ExecuteTime": {
     "end_time": "2025-04-19T09:21:45.983914Z",
     "start_time": "2025-04-19T09:21:45.937412Z"
    }
   },
   "cell_type": "code",
   "source": [
    "import turtle\n",
    "t = turtle.Pen()"
   ],
   "id": "22d7da29cec9378e",
   "outputs": [],
   "execution_count": 8
  },
  {
   "metadata": {
    "ExecuteTime": {
     "end_time": "2025-04-19T09:23:51.842775Z",
     "start_time": "2025-04-19T09:23:51.777786Z"
    }
   },
   "cell_type": "code",
   "source": "t.forward(50)",
   "id": "c972f0b10f606db5",
   "outputs": [],
   "execution_count": 15
  },
  {
   "metadata": {
    "ExecuteTime": {
     "end_time": "2025-04-19T09:24:18.829884Z",
     "start_time": "2025-04-19T09:24:18.754254Z"
    }
   },
   "cell_type": "code",
   "source": "t.backward(50)",
   "id": "e08f4dc1a29cd53a",
   "outputs": [],
   "execution_count": 22
  },
  {
   "metadata": {},
   "cell_type": "code",
   "outputs": [],
   "execution_count": null,
   "source": "",
   "id": "a361ddbb208651a8"
  }
 ],
 "metadata": {
  "kernelspec": {
   "display_name": "Python 3",
   "language": "python",
   "name": "python3"
  },
  "language_info": {
   "codemirror_mode": {
    "name": "ipython",
    "version": 2
   },
   "file_extension": ".py",
   "mimetype": "text/x-python",
   "name": "python",
   "nbconvert_exporter": "python",
   "pygments_lexer": "ipython2",
   "version": "2.7.6"
  }
 },
 "nbformat": 4,
 "nbformat_minor": 5
}
